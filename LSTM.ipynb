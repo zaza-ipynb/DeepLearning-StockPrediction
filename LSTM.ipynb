{
  "nbformat": 4,
  "nbformat_minor": 0,
  "metadata": {
    "kernelspec": {
      "display_name": "Python 3",
      "language": "python",
      "name": "python3"
    },
    "language_info": {
      "codemirror_mode": {
        "name": "ipython",
        "version": 3
      },
      "file_extension": ".py",
      "mimetype": "text/x-python",
      "name": "python",
      "nbconvert_exporter": "python",
      "pygments_lexer": "ipython3",
      "version": "3.6.8"
    },
    "colab": {
      "name": "finalernn(1).ipynb",
      "provenance": [],
      "collapsed_sections": []
    },
    "accelerator": "TPU"
  },
  "cells": [
    {
      "cell_type": "code",
      "metadata": {
        "id": "mm5-q3h1u_LN",
        "colab": {
          "base_uri": "https://localhost:8080/"
        },
        "outputId": "871d16fc-126a-4e72-dd34-1c8c82ce07d4"
      },
      "source": [
        "import sys\n",
        "import warnings\n",
        "!pip install yfinance\n",
        "import yfinance as yf\n",
        "# install tensorflow 1.15 dengan cara pip install tensorflow==1.15\n",
        "if not sys.warnoptions:\n",
        "    warnings.simplefilter('ignore')"
      ],
      "execution_count": null,
      "outputs": [
        {
          "output_type": "stream",
          "text": [
            "Requirement already satisfied: yfinance in /usr/local/lib/python3.7/dist-packages (0.1.59)\n",
            "Requirement already satisfied: pandas>=0.24 in /usr/local/lib/python3.7/dist-packages (from yfinance) (1.1.5)\n",
            "Requirement already satisfied: lxml>=4.5.1 in /usr/local/lib/python3.7/dist-packages (from yfinance) (4.6.3)\n",
            "Requirement already satisfied: multitasking>=0.0.7 in /usr/local/lib/python3.7/dist-packages (from yfinance) (0.0.9)\n",
            "Requirement already satisfied: numpy>=1.15 in /usr/local/lib/python3.7/dist-packages (from yfinance) (1.19.5)\n",
            "Requirement already satisfied: requests>=2.20 in /usr/local/lib/python3.7/dist-packages (from yfinance) (2.23.0)\n",
            "Requirement already satisfied: pytz>=2017.2 in /usr/local/lib/python3.7/dist-packages (from pandas>=0.24->yfinance) (2018.9)\n",
            "Requirement already satisfied: python-dateutil>=2.7.3 in /usr/local/lib/python3.7/dist-packages (from pandas>=0.24->yfinance) (2.8.1)\n",
            "Requirement already satisfied: chardet<4,>=3.0.2 in /usr/local/lib/python3.7/dist-packages (from requests>=2.20->yfinance) (3.0.4)\n",
            "Requirement already satisfied: idna<3,>=2.5 in /usr/local/lib/python3.7/dist-packages (from requests>=2.20->yfinance) (2.10)\n",
            "Requirement already satisfied: urllib3!=1.25.0,!=1.25.1,<1.26,>=1.21.1 in /usr/local/lib/python3.7/dist-packages (from requests>=2.20->yfinance) (1.24.3)\n",
            "Requirement already satisfied: certifi>=2017.4.17 in /usr/local/lib/python3.7/dist-packages (from requests>=2.20->yfinance) (2020.12.5)\n",
            "Requirement already satisfied: six>=1.5 in /usr/local/lib/python3.7/dist-packages (from python-dateutil>=2.7.3->pandas>=0.24->yfinance) (1.15.0)\n"
          ],
          "name": "stdout"
        }
      ]
    },
    {
      "cell_type": "markdown",
      "metadata": {
        "id": "PCD8Z2f7DDu6"
      },
      "source": [
        "Deklarasi Library\n"
      ]
    },
    {
      "cell_type": "code",
      "metadata": {
        "id": "dRY7fEcXu_LW",
        "colab": {
          "base_uri": "https://localhost:8080/"
        },
        "outputId": "ed238913-31b5-4d31-d73f-d4541c5de0cc"
      },
      "source": [
        "%tensorflow_version 1.15\n",
        "import tensorflow as tf\n",
        "import numpy as np\n",
        "import matplotlib.pyplot as plt\n",
        "import seaborn as sns\n",
        "import pandas as pd\n",
        "from sklearn.preprocessing import MinMaxScaler\n",
        "from datetime import datetime\n",
        "from datetime import timedelta\n",
        "from tqdm import tqdm\n",
        "sns.set()\n",
        "tf.compat.v1.random.set_random_seed(1234)"
      ],
      "execution_count": null,
      "outputs": [
        {
          "output_type": "stream",
          "text": [
            "`%tensorflow_version` only switches the major version: 1.x or 2.x.\n",
            "You set: `1.15`. This will be interpreted as: `1.x`.\n",
            "\n",
            "\n",
            "TensorFlow 1.x selected.\n"
          ],
          "name": "stdout"
        }
      ]
    },
    {
      "cell_type": "markdown",
      "metadata": {
        "id": "xB1ydKwLDOsg"
      },
      "source": [
        "Pemanggilan Data Set"
      ]
    },
    {
      "cell_type": "code",
      "metadata": {
        "colab": {
          "base_uri": "https://localhost:8080/",
          "height": 442
        },
        "id": "4c2Qto1Uu_LW",
        "outputId": "98891edc-a2bb-4fcd-ec01-dfdd5693597e"
      },
      "source": [
        "df = yf.download(\"PAMG.JK\", start=\"2020-02-11\", end=\"2021-02-15\")\n",
        "df = df[['Open', 'High', 'Low', 'Close', 'Volume']]\n",
        "df = df.reset_index()\n",
        "\n",
        "tf.compat.v1.disable_eager_execution()\n",
        "# df = pd.read_csv('AAPLCUT.csv')\n",
        "df.head (243)\n"
      ],
      "execution_count": null,
      "outputs": [
        {
          "output_type": "stream",
          "text": [
            "\r[*********************100%***********************]  1 of 1 completed\n"
          ],
          "name": "stdout"
        },
        {
          "output_type": "execute_result",
          "data": {
            "text/html": [
              "<div>\n",
              "<style scoped>\n",
              "    .dataframe tbody tr th:only-of-type {\n",
              "        vertical-align: middle;\n",
              "    }\n",
              "\n",
              "    .dataframe tbody tr th {\n",
              "        vertical-align: top;\n",
              "    }\n",
              "\n",
              "    .dataframe thead th {\n",
              "        text-align: right;\n",
              "    }\n",
              "</style>\n",
              "<table border=\"1\" class=\"dataframe\">\n",
              "  <thead>\n",
              "    <tr style=\"text-align: right;\">\n",
              "      <th></th>\n",
              "      <th>Date</th>\n",
              "      <th>Open</th>\n",
              "      <th>High</th>\n",
              "      <th>Low</th>\n",
              "      <th>Close</th>\n",
              "      <th>Volume</th>\n",
              "    </tr>\n",
              "  </thead>\n",
              "  <tbody>\n",
              "    <tr>\n",
              "      <th>0</th>\n",
              "      <td>2020-02-11</td>\n",
              "      <td>116.0</td>\n",
              "      <td>125.0</td>\n",
              "      <td>107.0</td>\n",
              "      <td>120.0</td>\n",
              "      <td>13394300</td>\n",
              "    </tr>\n",
              "    <tr>\n",
              "      <th>1</th>\n",
              "      <td>2020-02-12</td>\n",
              "      <td>122.0</td>\n",
              "      <td>131.0</td>\n",
              "      <td>114.0</td>\n",
              "      <td>123.0</td>\n",
              "      <td>27121000</td>\n",
              "    </tr>\n",
              "    <tr>\n",
              "      <th>2</th>\n",
              "      <td>2020-02-13</td>\n",
              "      <td>124.0</td>\n",
              "      <td>124.0</td>\n",
              "      <td>112.0</td>\n",
              "      <td>114.0</td>\n",
              "      <td>5203300</td>\n",
              "    </tr>\n",
              "    <tr>\n",
              "      <th>3</th>\n",
              "      <td>2020-02-14</td>\n",
              "      <td>115.0</td>\n",
              "      <td>140.0</td>\n",
              "      <td>112.0</td>\n",
              "      <td>140.0</td>\n",
              "      <td>22206800</td>\n",
              "    </tr>\n",
              "    <tr>\n",
              "      <th>4</th>\n",
              "      <td>2020-02-17</td>\n",
              "      <td>142.0</td>\n",
              "      <td>152.0</td>\n",
              "      <td>127.0</td>\n",
              "      <td>151.0</td>\n",
              "      <td>25587000</td>\n",
              "    </tr>\n",
              "    <tr>\n",
              "      <th>...</th>\n",
              "      <td>...</td>\n",
              "      <td>...</td>\n",
              "      <td>...</td>\n",
              "      <td>...</td>\n",
              "      <td>...</td>\n",
              "      <td>...</td>\n",
              "    </tr>\n",
              "    <tr>\n",
              "      <th>238</th>\n",
              "      <td>2021-02-05</td>\n",
              "      <td>93.0</td>\n",
              "      <td>103.0</td>\n",
              "      <td>90.0</td>\n",
              "      <td>92.0</td>\n",
              "      <td>13371000</td>\n",
              "    </tr>\n",
              "    <tr>\n",
              "      <th>239</th>\n",
              "      <td>2021-02-08</td>\n",
              "      <td>93.0</td>\n",
              "      <td>93.0</td>\n",
              "      <td>90.0</td>\n",
              "      <td>91.0</td>\n",
              "      <td>1829600</td>\n",
              "    </tr>\n",
              "    <tr>\n",
              "      <th>240</th>\n",
              "      <td>2021-02-09</td>\n",
              "      <td>91.0</td>\n",
              "      <td>94.0</td>\n",
              "      <td>90.0</td>\n",
              "      <td>92.0</td>\n",
              "      <td>2033300</td>\n",
              "    </tr>\n",
              "    <tr>\n",
              "      <th>241</th>\n",
              "      <td>2021-02-10</td>\n",
              "      <td>93.0</td>\n",
              "      <td>93.0</td>\n",
              "      <td>88.0</td>\n",
              "      <td>91.0</td>\n",
              "      <td>1525100</td>\n",
              "    </tr>\n",
              "    <tr>\n",
              "      <th>242</th>\n",
              "      <td>2021-02-11</td>\n",
              "      <td>92.0</td>\n",
              "      <td>92.0</td>\n",
              "      <td>88.0</td>\n",
              "      <td>90.0</td>\n",
              "      <td>678400</td>\n",
              "    </tr>\n",
              "  </tbody>\n",
              "</table>\n",
              "<p>243 rows × 6 columns</p>\n",
              "</div>"
            ],
            "text/plain": [
              "          Date   Open   High    Low  Close    Volume\n",
              "0   2020-02-11  116.0  125.0  107.0  120.0  13394300\n",
              "1   2020-02-12  122.0  131.0  114.0  123.0  27121000\n",
              "2   2020-02-13  124.0  124.0  112.0  114.0   5203300\n",
              "3   2020-02-14  115.0  140.0  112.0  140.0  22206800\n",
              "4   2020-02-17  142.0  152.0  127.0  151.0  25587000\n",
              "..         ...    ...    ...    ...    ...       ...\n",
              "238 2021-02-05   93.0  103.0   90.0   92.0  13371000\n",
              "239 2021-02-08   93.0   93.0   90.0   91.0   1829600\n",
              "240 2021-02-09   91.0   94.0   90.0   92.0   2033300\n",
              "241 2021-02-10   93.0   93.0   88.0   91.0   1525100\n",
              "242 2021-02-11   92.0   92.0   88.0   90.0    678400\n",
              "\n",
              "[243 rows x 6 columns]"
            ]
          },
          "metadata": {
            "tags": []
          },
          "execution_count": 46
        }
      ]
    },
    {
      "cell_type": "markdown",
      "metadata": {
        "id": "EfmLwGT5DR_f"
      },
      "source": [
        "Grafik Data saham periode 1 tahun"
      ]
    },
    {
      "cell_type": "code",
      "metadata": {
        "colab": {
          "base_uri": "https://localhost:8080/",
          "height": 287
        },
        "id": "pNvjkzPBzUJp",
        "outputId": "4731db68-76f8-440f-e5f4-70c0b84554c3"
      },
      "source": [
        "y= df['Close']\n",
        "y.index=df.index\n",
        "y.plot()"
      ],
      "execution_count": null,
      "outputs": [
        {
          "output_type": "execute_result",
          "data": {
            "text/plain": [
              "<matplotlib.axes._subplots.AxesSubplot at 0x7fbe411d7c90>"
            ]
          },
          "metadata": {
            "tags": []
          },
          "execution_count": 47
        },
        {
          "output_type": "display_data",
          "data": {
            "image/png": "[encoded data removed]",
            "text/plain": [
              "<Figure size 432x288 with 1 Axes>"
            ]
          },
          "metadata": {
            "tags": []
          }
        }
      ]
    },
    {
      "cell_type": "markdown",
      "metadata": {
        "id": "j5Vqoj26DdKD"
      },
      "source": [
        "Proses Normalisasi"
      ]
    },
    {
      "cell_type": "code",
      "metadata": {
        "colab": {
          "base_uri": "https://localhost:8080/"
        },
        "id": "7AhAKJHGu_LY",
        "outputId": "ca82e97b-445b-4d80-f9f9-64e4a4574bdb"
      },
      "source": [
        "minmax = MinMaxScaler().fit(df.iloc[:, 4:5].astype('float32')) # Close index\n",
        "df_log = minmax.transform(df.iloc[:, 4:5].astype('float32')) # Close index\n",
        "df_log = pd.DataFrame(df_log)\n",
        "df_log .head\n",
        "\n"
      ],
      "execution_count": null,
      "outputs": [
        {
          "output_type": "execute_result",
          "data": {
            "text/plain": [
              "<bound method NDFrame.head of         0\n",
              "0    0.60\n",
              "1    0.63\n",
              "2    0.54\n",
              "3    0.80\n",
              "4    0.91\n",
              "..    ...\n",
              "238  0.32\n",
              "239  0.31\n",
              "240  0.32\n",
              "241  0.31\n",
              "242  0.30\n",
              "\n",
              "[243 rows x 1 columns]>"
            ]
          },
          "metadata": {
            "tags": []
          },
          "execution_count": 48
        }
      ]
    },
    {
      "cell_type": "code",
      "metadata": {
        "id": "SvOawvzbvSG8"
      },
      "source": [
        ""
      ],
      "execution_count": null,
      "outputs": []
    },
    {
      "cell_type": "markdown",
      "metadata": {
        "id": "42TXNraeDg3o"
      },
      "source": [
        "Inisialisasi Parameter\n"
      ]
    },
    {
      "cell_type": "code",
      "metadata": {
        "colab": {
          "base_uri": "https://localhost:8080/"
        },
        "id": "0UE_09Iiu_LZ",
        "outputId": "74921e77-5c9b-4ffa-d5ac-d1c2aab23123"
      },
      "source": [
        "simulation_size = 1\n",
        "num_layers = 1\n",
        "size_layer = 64\n",
        "timestamp = 5\n",
        "epoch = 1000\n",
        "dropout_rate = 0.8\n",
        "test_size = 5\n",
        "learning_rate = 0.001\n",
        "\n",
        "df_train = df_log\n",
        "df.shape, df_train.shape"
      ],
      "execution_count": null,
      "outputs": [
        {
          "output_type": "execute_result",
          "data": {
            "text/plain": [
              "((243, 6), (243, 1))"
            ]
          },
          "metadata": {
            "tags": []
          },
          "execution_count": 98
        }
      ]
    },
    {
      "cell_type": "markdown",
      "metadata": {
        "id": "A24d1B3lDlpA"
      },
      "source": [
        "Membuat Model dengen RNN"
      ]
    },
    {
      "cell_type": "code",
      "metadata": {
        "id": "EoNh_0Pwu_LZ"
      },
      "source": [
        "class Model:\n",
        "    def __init__(\n",
        "        self,\n",
        "        learning_rate,\n",
        "        num_layers,\n",
        "        size,\n",
        "        size_layer,\n",
        "        output_size,\n",
        "        forget_bias = 0.1,\n",
        "    ):\n",
        "        def lstm_cell(size_layer):\n",
        "            return tf.compat.v1.nn.rnn_cell.LSTMCell(size_layer, state_is_tuple = False)\n",
        " \n",
        "        rnn_cells = tf.compat.v1.nn.rnn_cell.MultiRNNCell(\n",
        "            [lstm_cell(size_layer) for _ in range(num_layers)],\n",
        "            state_is_tuple = False,\n",
        "        )\n",
        "        self.X = tf.compat.v1.placeholder(tf.float32, (None, None, size))\n",
        "        self.Y = tf.compat.v1.placeholder(tf.float32, (None, output_size))\n",
        "        drop = tf.compat.v1.nn.rnn_cell.DropoutWrapper(\n",
        "            rnn_cells, output_keep_prob = forget_bias\n",
        "        )\n",
        "        self.hidden_layer = tf.compat.v1.placeholder(\n",
        "            tf.float32, (None, num_layers * 2 * size_layer)\n",
        "        )\n",
        "        self.outputs, self.last_state = tf.compat.v1.nn.dynamic_rnn(\n",
        "            drop, self.X, initial_state = self.hidden_layer, dtype = tf.float32\n",
        "        )\n",
        "        self.logits = tf.compat.v1.layers.dense(self.outputs[-1], output_size)\n",
        "        self.cost = tf.reduce_mean(tf.square(self.Y - self.logits))\n",
        "        self.optimizer = tf.compat.v1.train.AdamOptimizer(learning_rate).minimize(\n",
        "            self.cost\n",
        "        )\n",
        "        \n",
        "def calculate_accuracy(real, predict):\n",
        "    real = np.array(real) + 1\n",
        "    predict = np.array(predict) + 1\n",
        "    percentage = 1 - np.sqrt(np.mean(np.square((real - predict) / real)))\n",
        "    return percentage * 100\n",
        " \n",
        "def anchor(signal, weight):\n",
        "    buffer = []\n",
        "    last = signal[0]\n",
        "    for i in signal:\n",
        "        smoothed_val = last * weight + (1 - weight) * i\n",
        "        buffer.append(smoothed_val)\n",
        "        last = smoothed_val\n",
        "    return buffer"
      ],
      "execution_count": null,
      "outputs": []
    },
    {
      "cell_type": "code",
      "metadata": {
        "id": "suso--PFu_La"
      },
      "source": [
        "def forecast():\n",
        "    tf.compat.v1.reset_default_graph()\n",
        "    modelnn = Model(\n",
        "        learning_rate, num_layers, df_log.shape[1], size_layer, df_log.shape[1], dropout_rate\n",
        "    )\n",
        "    sess = tf.compat.v1.Session()   \n",
        "    sess = tf.compat.v1.Session(config=tf.compat.v1.ConfigProto(intra_op_parallelism_threads=8))\n",
        "    sess.run(tf.compat.v1.global_variables_initializer())\n",
        "    date_ori = pd.to_datetime(df.iloc[:, 0]).tolist()\n",
        "\n",
        "    pbar = tqdm(range(epoch), desc = 'train loop')\n",
        "    for i in pbar:\n",
        "        init_value = np.zeros((1, num_layers * 2 * size_layer))\n",
        "        total_loss, total_acc = [], []\n",
        "        for k in range(0, df_train.shape[0] - 1, timestamp):\n",
        "            index = min(k + timestamp, df_train.shape[0] - 1)\n",
        "            batch_x = np.expand_dims(\n",
        "                df_train.iloc[k : index, :].values, axis = 0\n",
        "            )\n",
        "            batch_y = df_train.iloc[k + 1 : index + 1, :].values\n",
        "            logits, last_state, _, loss = sess.run(\n",
        "                [modelnn.logits, modelnn.last_state, modelnn.optimizer, modelnn.cost],\n",
        "                feed_dict = {\n",
        "                    modelnn.X: batch_x,\n",
        "                    modelnn.Y: batch_y,\n",
        "                    modelnn.hidden_layer: init_value,\n",
        "                },\n",
        "            )        \n",
        "            init_value = last_state\n",
        "            total_loss.append(loss)\n",
        "            total_acc.append(calculate_accuracy(batch_y[:, 0], logits[:, 0]))\n",
        "        pbar.set_postfix(cost = np.mean(total_loss), acc = np.mean(total_acc))\n",
        "    \n",
        "    future_day = test_size\n",
        "\n",
        "    output_predict = np.zeros((df_train.shape[0] + future_day, df_train.shape[1]))\n",
        "    output_predict[0] = df_train.iloc[0]\n",
        "    upper_b = (df_train.shape[0] // timestamp) * timestamp\n",
        "    init_value = np.zeros((1, num_layers * 2 * size_layer))\n",
        "\n",
        "    for k in range(0, (df_train.shape[0] // timestamp) * timestamp, timestamp):\n",
        "        out_logits, last_state = sess.run(\n",
        "            [modelnn.logits, modelnn.last_state],\n",
        "            feed_dict = {\n",
        "                modelnn.X: np.expand_dims(\n",
        "                    df_train.iloc[k : k + timestamp], axis = 0\n",
        "                ),\n",
        "                modelnn.hidden_layer: init_value,\n",
        "            },\n",
        "        )\n",
        "        init_value = last_state\n",
        "        output_predict[k + 1 : k + timestamp + 1] = out_logits\n",
        "\n",
        "    if upper_b != df_train.shape[0]:\n",
        "        out_logits, last_state = sess.run(\n",
        "            [modelnn.logits, modelnn.last_state],\n",
        "            feed_dict = {\n",
        "                modelnn.X: np.expand_dims(df_train.iloc[upper_b:], axis = 0),\n",
        "                modelnn.hidden_layer: init_value,\n",
        "            },\n",
        "        )\n",
        "        output_predict[upper_b + 1 : df_train.shape[0] + 1] = out_logits\n",
        "        future_day -= 1\n",
        "        date_ori.append(date_ori[-1] + timedelta(days = 1))\n",
        "\n",
        "    init_value = last_state\n",
        "    \n",
        "    for i in range(future_day):\n",
        "        o = output_predict[-future_day - timestamp + i:-future_day + i]\n",
        "        out_logits, last_state = sess.run(\n",
        "            [modelnn.logits, modelnn.last_state],\n",
        "            feed_dict = {\n",
        "                modelnn.X: np.expand_dims(o, axis = 0),\n",
        "                modelnn.hidden_layer: init_value,\n",
        "            },\n",
        "        )\n",
        "        init_value = last_state\n",
        "        output_predict[-future_day + i] = out_logits[-1]\n",
        "        date_ori.append(date_ori[-1] + timedelta(days = 1))\n",
        "    \n",
        "    output_predict = minmax.inverse_transform(output_predict)\n",
        "    deep_future = anchor(output_predict[:, 0], 0.4)\n",
        "    \n",
        "    return deep_future"
      ],
      "execution_count": null,
      "outputs": []
    },
    {
      "cell_type": "code",
      "metadata": {
        "id": "ceV8M84Ku_Lb",
        "colab": {
          "base_uri": "https://localhost:8080/"
        },
        "outputId": "d358b44c-86f1-464b-a1b4-952fdee300d2"
      },
      "source": [
        "results = []\n",
        "for i in range(simulation_size):\n",
        "    print('simulation %d'%(i + 1))\n",
        "    results.append(forecast())"
      ],
      "execution_count": null,
      "outputs": [
        {
          "output_type": "stream",
          "text": [
            "simulation 1\n",
            "WARNING:tensorflow:<tensorflow.python.ops.rnn_cell_impl.LSTMCell object at 0x7fbe38603dd0>: Using a concatenated state is slower and will soon be deprecated.  Use state_is_tuple=True.\n"
          ],
          "name": "stdout"
        },
        {
          "output_type": "stream",
          "text": [
            "train loop: 100%|██████████| 1000/1000 [02:58<00:00,  5.59it/s, acc=96.5, cost=0.00274]\n"
          ],
          "name": "stderr"
        }
      ]
    },
    {
      "cell_type": "code",
      "metadata": {
        "id": "zHicvMaSu_Lc"
      },
      "source": [
        "date_ori = pd.to_datetime(df.iloc[:, 0]).tolist()\n",
        "for i in range(test_size):\n",
        "    date_ori.append(date_ori[-1] + timedelta(days = 1))\n",
        "date_ori [-5:]  = pd.Series(date_ori).dt.strftime(date_format = '%Y-%m-%d').tolist()\n"
      ],
      "execution_count": null,
      "outputs": []
    },
    {
      "cell_type": "code",
      "metadata": {
        "id": "JVdm2Yc_u_Ld",
        "colab": {
          "base_uri": "https://localhost:8080/"
        },
        "outputId": "ce00e0b8-a1db-47c5-edfa-3da8c913e96b"
      },
      "source": [
        "accepted_results = []\n",
        "for r in results:\n",
        "    if (np.array(r[-test_size:]) < np.min(df['Close'])).sum() == 0 and \\\n",
        "    (np.array(r[-test_size:]) > np.max(df['Close']) * 2).sum() == 0:\n",
        "        accepted_results.append(r)\n",
        "len(accepted_results)"
      ],
      "execution_count": null,
      "outputs": [
        {
          "output_type": "execute_result",
          "data": {
            "text/plain": [
              "1"
            ]
          },
          "metadata": {
            "tags": []
          },
          "execution_count": 103
        }
      ]
    },
    {
      "cell_type": "code",
      "metadata": {
        "id": "umD9qCd_Y07o"
      },
      "source": [
        "Result = pd.DataFrame({'Predict1' : accepted_results[0]})\n"
      ],
      "execution_count": null,
      "outputs": []
    },
    {
      "cell_type": "markdown",
      "metadata": {
        "id": "73MsGFe6DwSf"
      },
      "source": [
        "Model Memprediksi"
      ]
    },
    {
      "cell_type": "code",
      "metadata": {
        "id": "n2ddqFgZrvfH",
        "colab": {
          "base_uri": "https://localhost:8080/"
        },
        "outputId": "53c89791-ad59-4d49-8e16-517993684723"
      },
      "source": [
        "for i in range(len(df['Close'])):\n",
        "  print('Original :', df['Close'][i], '| ', 'Predict 1:', np.round(Result['Predict1'][i], 2))"
      ],
      "execution_count": null,
      "outputs": [
        {
          "output_type": "stream",
          "text": [
            "Original : 120.0 |  Predict 1: 120.0\n",
            "Original : 123.0 |  Predict 1: 122.63\n",
            "Original : 114.0 |  Predict 1: 117.75\n",
            "Original : 140.0 |  Predict 1: 130.46\n",
            "Original : 151.0 |  Predict 1: 145.19\n",
            "Original : 154.0 |  Predict 1: 149.04\n",
            "Original : 159.0 |  Predict 1: 151.11\n",
            "Original : 160.0 |  Predict 1: 151.81\n",
            "Original : 159.0 |  Predict 1: 153.97\n",
            "Original : 149.0 |  Predict 1: 153.55\n",
            "Original : 142.0 |  Predict 1: 150.12\n",
            "Original : 129.0 |  Predict 1: 138.39\n",
            "Original : 122.0 |  Predict 1: 136.9\n",
            "Original : 117.0 |  Predict 1: 127.23\n",
            "Original : 136.0 |  Predict 1: 125.92\n",
            "Original : 145.0 |  Predict 1: 132.7\n",
            "Original : 148.0 |  Predict 1: 139.0\n",
            "Original : 142.0 |  Predict 1: 141.31\n",
            "Original : 149.0 |  Predict 1: 141.82\n",
            "Original : 148.0 |  Predict 1: 139.55\n",
            "Original : 154.0 |  Predict 1: 146.33\n",
            "Original : 147.0 |  Predict 1: 142.6\n",
            "Original : 135.0 |  Predict 1: 142.94\n",
            "Original : 126.0 |  Predict 1: 131.97\n",
            "Original : 126.0 |  Predict 1: 127.3\n",
            "Original : 113.0 |  Predict 1: 121.49\n",
            "Original : 112.0 |  Predict 1: 111.18\n",
            "Original : 105.0 |  Predict 1: 108.07\n",
            "Original : 117.0 |  Predict 1: 105.72\n",
            "Original : 109.0 |  Predict 1: 111.79\n",
            "Original : 102.0 |  Predict 1: 107.41\n",
            "Original : 116.0 |  Predict 1: 106.48\n",
            "Original : 119.0 |  Predict 1: 111.65\n",
            "Original : 111.0 |  Predict 1: 111.9\n",
            "Original : 122.0 |  Predict 1: 111.57\n",
            "Original : 114.0 |  Predict 1: 115.12\n",
            "Original : 107.0 |  Predict 1: 111.13\n",
            "Original : 104.0 |  Predict 1: 108.13\n",
            "Original : 97.0 |  Predict 1: 104.17\n",
            "Original : 91.0 |  Predict 1: 97.87\n",
            "Original : 86.0 |  Predict 1: 93.46\n",
            "Original : 82.0 |  Predict 1: 89.74\n",
            "Original : 84.0 |  Predict 1: 86.02\n",
            "Original : 90.0 |  Predict 1: 85.19\n",
            "Original : 86.0 |  Predict 1: 87.45\n",
            "Original : 83.0 |  Predict 1: 86.68\n",
            "Original : 81.0 |  Predict 1: 85.73\n",
            "Original : 80.0 |  Predict 1: 81.99\n",
            "Original : 75.0 |  Predict 1: 81.46\n",
            "Original : 70.0 |  Predict 1: 80.11\n",
            "Original : 90.0 |  Predict 1: 76.05\n",
            "Original : 84.0 |  Predict 1: 82.37\n",
            "Original : 79.0 |  Predict 1: 84.46\n",
            "Original : 74.0 |  Predict 1: 81.87\n",
            "Original : 76.0 |  Predict 1: 78.0\n",
            "Original : 72.0 |  Predict 1: 75.4\n",
            "Original : 71.0 |  Predict 1: 73.56\n",
            "Original : 72.0 |  Predict 1: 75.34\n",
            "Original : 70.0 |  Predict 1: 76.32\n",
            "Original : 70.0 |  Predict 1: 73.49\n",
            "Original : 69.0 |  Predict 1: 74.4\n",
            "Original : 67.0 |  Predict 1: 71.89\n",
            "Original : 67.0 |  Predict 1: 69.9\n",
            "Original : 66.0 |  Predict 1: 69.46\n",
            "Original : 74.0 |  Predict 1: 70.2\n",
            "Original : 69.0 |  Predict 1: 72.35\n",
            "Original : 66.0 |  Predict 1: 72.41\n",
            "Original : 65.0 |  Predict 1: 71.78\n",
            "Original : 65.0 |  Predict 1: 69.92\n",
            "Original : 64.0 |  Predict 1: 68.35\n",
            "Original : 66.0 |  Predict 1: 68.45\n",
            "Original : 66.0 |  Predict 1: 68.66\n",
            "Original : 66.0 |  Predict 1: 68.88\n",
            "Original : 66.0 |  Predict 1: 68.21\n",
            "Original : 67.0 |  Predict 1: 69.45\n",
            "Original : 71.0 |  Predict 1: 68.7\n",
            "Original : 74.0 |  Predict 1: 70.57\n",
            "Original : 91.0 |  Predict 1: 73.86\n",
            "Original : 85.0 |  Predict 1: 84.78\n",
            "Original : 80.0 |  Predict 1: 83.8\n",
            "Original : 75.0 |  Predict 1: 81.52\n",
            "Original : 71.0 |  Predict 1: 77.46\n",
            "Original : 72.0 |  Predict 1: 74.41\n",
            "Original : 74.0 |  Predict 1: 72.36\n",
            "Original : 80.0 |  Predict 1: 75.02\n",
            "Original : 75.0 |  Predict 1: 78.99\n",
            "Original : 74.0 |  Predict 1: 78.85\n",
            "Original : 75.0 |  Predict 1: 77.77\n",
            "Original : 74.0 |  Predict 1: 76.96\n",
            "Original : 78.0 |  Predict 1: 74.96\n",
            "Original : 76.0 |  Predict 1: 77.25\n",
            "Original : 79.0 |  Predict 1: 79.49\n",
            "Original : 78.0 |  Predict 1: 79.51\n",
            "Original : 83.0 |  Predict 1: 78.84\n",
            "Original : 86.0 |  Predict 1: 80.73\n",
            "Original : 86.0 |  Predict 1: 84.22\n",
            "Original : 84.0 |  Predict 1: 85.37\n",
            "Original : 83.0 |  Predict 1: 84.6\n",
            "Original : 86.0 |  Predict 1: 83.0\n",
            "Original : 85.0 |  Predict 1: 84.51\n",
            "Original : 84.0 |  Predict 1: 83.94\n",
            "Original : 84.0 |  Predict 1: 84.87\n",
            "Original : 83.0 |  Predict 1: 85.07\n",
            "Original : 82.0 |  Predict 1: 83.91\n",
            "Original : 80.0 |  Predict 1: 82.75\n",
            "Original : 86.0 |  Predict 1: 82.12\n",
            "Original : 81.0 |  Predict 1: 84.66\n",
            "Original : 81.0 |  Predict 1: 83.28\n",
            "Original : 82.0 |  Predict 1: 83.29\n",
            "Original : 81.0 |  Predict 1: 81.73\n",
            "Original : 80.0 |  Predict 1: 80.36\n",
            "Original : 80.0 |  Predict 1: 79.89\n",
            "Original : 79.0 |  Predict 1: 80.75\n",
            "Original : 79.0 |  Predict 1: 81.14\n",
            "Original : 77.0 |  Predict 1: 80.59\n",
            "Original : 72.0 |  Predict 1: 78.74\n",
            "Original : 75.0 |  Predict 1: 76.61\n",
            "Original : 74.0 |  Predict 1: 76.0\n",
            "Original : 78.0 |  Predict 1: 75.49\n",
            "Original : 80.0 |  Predict 1: 77.15\n",
            "Original : 84.0 |  Predict 1: 80.08\n",
            "Original : 79.0 |  Predict 1: 83.25\n",
            "Original : 74.0 |  Predict 1: 80.66\n",
            "Original : 69.0 |  Predict 1: 77.82\n",
            "Original : 65.0 |  Predict 1: 73.9\n",
            "Original : 61.0 |  Predict 1: 71.94\n",
            "Original : 60.0 |  Predict 1: 67.13\n",
            "Original : 60.0 |  Predict 1: 66.52\n",
            "Original : 65.0 |  Predict 1: 62.73\n",
            "Original : 63.0 |  Predict 1: 64.63\n",
            "Original : 65.0 |  Predict 1: 66.73\n",
            "Original : 62.0 |  Predict 1: 67.77\n",
            "Original : 63.0 |  Predict 1: 66.72\n",
            "Original : 66.0 |  Predict 1: 66.52\n",
            "Original : 66.0 |  Predict 1: 67.73\n",
            "Original : 66.0 |  Predict 1: 70.61\n",
            "Original : 67.0 |  Predict 1: 69.64\n",
            "Original : 68.0 |  Predict 1: 69.66\n",
            "Original : 76.0 |  Predict 1: 71.78\n",
            "Original : 72.0 |  Predict 1: 73.8\n",
            "Original : 74.0 |  Predict 1: 76.53\n",
            "Original : 79.0 |  Predict 1: 76.13\n",
            "Original : 77.0 |  Predict 1: 77.96\n",
            "Original : 72.0 |  Predict 1: 77.72\n",
            "Original : 77.0 |  Predict 1: 74.89\n",
            "Original : 81.0 |  Predict 1: 74.68\n",
            "Original : 79.0 |  Predict 1: 77.95\n",
            "Original : 82.0 |  Predict 1: 79.84\n",
            "Original : 78.0 |  Predict 1: 81.27\n",
            "Original : 74.0 |  Predict 1: 79.8\n",
            "Original : 92.0 |  Predict 1: 76.76\n",
            "Original : 88.0 |  Predict 1: 84.99\n",
            "Original : 92.0 |  Predict 1: 86.1\n",
            "Original : 96.0 |  Predict 1: 89.86\n",
            "Original : 100.0 |  Predict 1: 92.84\n",
            "Original : 93.0 |  Predict 1: 94.28\n",
            "Original : 89.0 |  Predict 1: 94.4\n",
            "Original : 99.0 |  Predict 1: 92.76\n",
            "Original : 93.0 |  Predict 1: 95.65\n",
            "Original : 98.0 |  Predict 1: 95.73\n",
            "Original : 98.0 |  Predict 1: 98.51\n",
            "Original : 98.0 |  Predict 1: 97.29\n",
            "Original : 97.0 |  Predict 1: 96.33\n",
            "Original : 98.0 |  Predict 1: 95.71\n",
            "Original : 95.0 |  Predict 1: 96.81\n",
            "Original : 89.0 |  Predict 1: 94.52\n",
            "Original : 90.0 |  Predict 1: 91.12\n",
            "Original : 98.0 |  Predict 1: 90.5\n",
            "Original : 96.0 |  Predict 1: 94.03\n",
            "Original : 96.0 |  Predict 1: 94.87\n",
            "Original : 96.0 |  Predict 1: 95.68\n",
            "Original : 96.0 |  Predict 1: 93.95\n",
            "Original : 90.0 |  Predict 1: 92.96\n",
            "Original : 88.0 |  Predict 1: 91.37\n",
            "Original : 89.0 |  Predict 1: 90.22\n",
            "Original : 97.0 |  Predict 1: 90.21\n",
            "Original : 99.0 |  Predict 1: 93.91\n",
            "Original : 100.0 |  Predict 1: 96.26\n",
            "Original : 99.0 |  Predict 1: 98.04\n",
            "Original : 98.0 |  Predict 1: 98.41\n",
            "Original : 102.0 |  Predict 1: 96.78\n",
            "Original : 106.0 |  Predict 1: 99.54\n",
            "Original : 110.0 |  Predict 1: 104.06\n",
            "Original : 130.0 |  Predict 1: 110.07\n",
            "Original : 121.0 |  Predict 1: 121.52\n",
            "Original : 113.0 |  Predict 1: 115.56\n",
            "Original : 118.0 |  Predict 1: 111.38\n",
            "Original : 126.0 |  Predict 1: 116.93\n",
            "Original : 127.0 |  Predict 1: 120.16\n",
            "Original : 127.0 |  Predict 1: 123.93\n",
            "Original : 119.0 |  Predict 1: 120.89\n",
            "Original : 111.0 |  Predict 1: 115.11\n",
            "Original : 113.0 |  Predict 1: 110.28\n",
            "Original : 109.0 |  Predict 1: 108.35\n",
            "Original : 112.0 |  Predict 1: 106.03\n",
            "Original : 114.0 |  Predict 1: 110.63\n",
            "Original : 113.0 |  Predict 1: 111.81\n",
            "Original : 113.0 |  Predict 1: 113.26\n",
            "Original : 114.0 |  Predict 1: 114.42\n",
            "Original : 109.0 |  Predict 1: 113.31\n",
            "Original : 104.0 |  Predict 1: 107.62\n",
            "Original : 109.0 |  Predict 1: 102.15\n",
            "Original : 117.0 |  Predict 1: 104.59\n",
            "Original : 113.0 |  Predict 1: 109.81\n",
            "Original : 114.0 |  Predict 1: 109.22\n",
            "Original : 116.0 |  Predict 1: 112.79\n",
            "Original : 115.0 |  Predict 1: 113.12\n",
            "Original : 114.0 |  Predict 1: 111.76\n",
            "Original : 112.0 |  Predict 1: 115.4\n",
            "Original : 106.0 |  Predict 1: 112.58\n",
            "Original : 106.0 |  Predict 1: 108.26\n",
            "Original : 105.0 |  Predict 1: 105.75\n",
            "Original : 105.0 |  Predict 1: 103.83\n",
            "Original : 103.0 |  Predict 1: 105.35\n",
            "Original : 102.0 |  Predict 1: 102.12\n",
            "Original : 104.0 |  Predict 1: 101.16\n",
            "Original : 106.0 |  Predict 1: 102.05\n",
            "Original : 109.0 |  Predict 1: 100.82\n",
            "Original : 109.0 |  Predict 1: 103.45\n",
            "Original : 109.0 |  Predict 1: 107.5\n",
            "Original : 108.0 |  Predict 1: 108.69\n",
            "Original : 114.0 |  Predict 1: 106.51\n",
            "Original : 112.0 |  Predict 1: 109.24\n",
            "Original : 110.0 |  Predict 1: 109.76\n",
            "Original : 112.0 |  Predict 1: 108.37\n",
            "Original : 108.0 |  Predict 1: 107.59\n",
            "Original : 106.0 |  Predict 1: 105.32\n",
            "Original : 107.0 |  Predict 1: 104.83\n",
            "Original : 103.0 |  Predict 1: 102.75\n",
            "Original : 98.0 |  Predict 1: 100.65\n",
            "Original : 96.0 |  Predict 1: 98.78\n",
            "Original : 91.0 |  Predict 1: 95.61\n",
            "Original : 90.0 |  Predict 1: 91.89\n",
            "Original : 87.0 |  Predict 1: 90.94\n",
            "Original : 85.0 |  Predict 1: 88.15\n",
            "Original : 89.0 |  Predict 1: 85.75\n",
            "Original : 91.0 |  Predict 1: 86.55\n",
            "Original : 91.0 |  Predict 1: 87.77\n",
            "Original : 92.0 |  Predict 1: 89.03\n",
            "Original : 91.0 |  Predict 1: 90.46\n",
            "Original : 92.0 |  Predict 1: 90.29\n",
            "Original : 91.0 |  Predict 1: 91.0\n",
            "Original : 90.0 |  Predict 1: 90.34\n"
          ],
          "name": "stdout"
        }
      ]
    },
    {
      "cell_type": "markdown",
      "metadata": {
        "id": "apDGqhCDD8Oc"
      },
      "source": [
        "Akurasi dan Grafik Prediksi"
      ]
    },
    {
      "cell_type": "code",
      "metadata": {
        "id": "xby_It4Vu_Ld",
        "colab": {
          "base_uri": "https://localhost:8080/",
          "height": 318
        },
        "outputId": "0f3d1278-7db9-4772-eb75-b96da0e89fa5"
      },
      "source": [
        "from sklearn.metrics import mean_squared_error\n",
        "import math\n",
        "accuracies = [calculate_accuracy(df['Close'].values, r[:-test_size]) for r in accepted_results]\n",
        "rmse = [mean_squared_error(df['Close'].values, r[:-test_size], squared=False) for r in accepted_results]\n",
        "mse = [mean_squared_error(df['Close'].values, r[:-test_size], squared=True) for r in accepted_results]\n",
        "rse = math.sqrt(np.mean(mse)/(df_train.shape[0]-2))\n",
        "plt.figure(figsize = (15, 5))\n",
        "for no, r in enumerate(accepted_results):\n",
        "    plt.plot(r, label = 'forecast %d'%(no + 1), marker = '*')\n",
        "plt.plot(df['Close'], label = 'true trend', c = 'black', marker = '*')\n",
        "plt.legend()\n",
        "plt.title('average accuracy: %.4f'%(np.mean(accuracies)))\n",
        "\n",
        "x_range_future = np.arange(len(results[0]))\n",
        "plt.xticks(x_range_future[::30], date_ori[::30])\n",
        "#print(\"RMSE : % 2d, MSE : % 5.2f, RSE : %5.2f\" %(np.mean(rmse), np.mean(mse), rse)) \n",
        "plt.show()"
      ],
      "execution_count": null,
      "outputs": [
        {
          "output_type": "display_data",
          "data": {
            "image/png": "[encoded data removed]",
            "text/plain": [
              "<Figure size 1080x360 with 1 Axes>"
            ]
          },
          "metadata": {
            "tags": []
          }
        }
      ]
    },
    {
      "cell_type": "code",
      "metadata": {
        "id": "5h0WJDM_e7p9"
      },
      "source": [
        "Result = pd.DataFrame({'Predict1' : accepted_results[0]})"
      ],
      "execution_count": null,
      "outputs": []
    },
    {
      "cell_type": "code",
      "metadata": {
        "id": "gVTXRuzM3oiT",
        "colab": {
          "base_uri": "https://localhost:8080/",
          "height": 424
        },
        "outputId": "d53128fb-49a4-41de-961e-2ec6f985b402"
      },
      "source": [
        "Result "
      ],
      "execution_count": null,
      "outputs": [
        {
          "output_type": "execute_result",
          "data": {
            "text/html": [
              "<div>\n",
              "<style scoped>\n",
              "    .dataframe tbody tr th:only-of-type {\n",
              "        vertical-align: middle;\n",
              "    }\n",
              "\n",
              "    .dataframe tbody tr th {\n",
              "        vertical-align: top;\n",
              "    }\n",
              "\n",
              "    .dataframe thead th {\n",
              "        text-align: right;\n",
              "    }\n",
              "</style>\n",
              "<table border=\"1\" class=\"dataframe\">\n",
              "  <thead>\n",
              "    <tr style=\"text-align: right;\">\n",
              "      <th></th>\n",
              "      <th>Predict1</th>\n",
              "    </tr>\n",
              "  </thead>\n",
              "  <tbody>\n",
              "    <tr>\n",
              "      <th>0</th>\n",
              "      <td>119.999996</td>\n",
              "    </tr>\n",
              "    <tr>\n",
              "      <th>1</th>\n",
              "      <td>122.634164</td>\n",
              "    </tr>\n",
              "    <tr>\n",
              "      <th>2</th>\n",
              "      <td>117.748091</td>\n",
              "    </tr>\n",
              "    <tr>\n",
              "      <th>3</th>\n",
              "      <td>130.461314</td>\n",
              "    </tr>\n",
              "    <tr>\n",
              "      <th>4</th>\n",
              "      <td>145.187200</td>\n",
              "    </tr>\n",
              "    <tr>\n",
              "      <th>...</th>\n",
              "      <td>...</td>\n",
              "    </tr>\n",
              "    <tr>\n",
              "      <th>243</th>\n",
              "      <td>90.119489</td>\n",
              "    </tr>\n",
              "    <tr>\n",
              "      <th>244</th>\n",
              "      <td>90.508863</td>\n",
              "    </tr>\n",
              "    <tr>\n",
              "      <th>245</th>\n",
              "      <td>90.710923</td>\n",
              "    </tr>\n",
              "    <tr>\n",
              "      <th>246</th>\n",
              "      <td>90.150090</td>\n",
              "    </tr>\n",
              "    <tr>\n",
              "      <th>247</th>\n",
              "      <td>90.786662</td>\n",
              "    </tr>\n",
              "  </tbody>\n",
              "</table>\n",
              "<p>248 rows × 1 columns</p>\n",
              "</div>"
            ],
            "text/plain": [
              "       Predict1\n",
              "0    119.999996\n",
              "1    122.634164\n",
              "2    117.748091\n",
              "3    130.461314\n",
              "4    145.187200\n",
              "..          ...\n",
              "243   90.119489\n",
              "244   90.508863\n",
              "245   90.710923\n",
              "246   90.150090\n",
              "247   90.786662\n",
              "\n",
              "[248 rows x 1 columns]"
            ]
          },
          "metadata": {
            "tags": []
          },
          "execution_count": 108
        }
      ]
    },
    {
      "cell_type": "markdown",
      "metadata": {
        "id": "EOkrgCmPEKDk"
      },
      "source": [
        ""
      ]
    },
    {
      "cell_type": "markdown",
      "metadata": {
        "id": "y0lzbJnSEF_e"
      },
      "source": [
        "Prediksi 5 hari"
      ]
    },
    {
      "cell_type": "code",
      "metadata": {
        "id": "DnsBvx0svKkf",
        "colab": {
          "base_uri": "https://localhost:8080/",
          "height": 206
        },
        "outputId": "10cc46db-9e36-4338-8f8b-b89c4e8b6a76"
      },
      "source": [
        "import pandas as pd\n",
        "hasil = pd.read_csv('output.csv',sep=',', error_bad_lines = False)\n",
        "hasil = hasil[['Data Aktual','Data Prediksi']]\n",
        "\n",
        "hasil "
      ],
      "execution_count": null,
      "outputs": [
        {
          "output_type": "execute_result",
          "data": {
            "text/html": [
              "<div>\n",
              "<style scoped>\n",
              "    .dataframe tbody tr th:only-of-type {\n",
              "        vertical-align: middle;\n",
              "    }\n",
              "\n",
              "    .dataframe tbody tr th {\n",
              "        vertical-align: top;\n",
              "    }\n",
              "\n",
              "    .dataframe thead th {\n",
              "        text-align: right;\n",
              "    }\n",
              "</style>\n",
              "<table border=\"1\" class=\"dataframe\">\n",
              "  <thead>\n",
              "    <tr style=\"text-align: right;\">\n",
              "      <th></th>\n",
              "      <th>Data Aktual</th>\n",
              "      <th>Data Prediksi</th>\n",
              "    </tr>\n",
              "  </thead>\n",
              "  <tbody>\n",
              "    <tr>\n",
              "      <th>0</th>\n",
              "      <td>90</td>\n",
              "      <td>90.119489</td>\n",
              "    </tr>\n",
              "    <tr>\n",
              "      <th>1</th>\n",
              "      <td>90</td>\n",
              "      <td>90.508863</td>\n",
              "    </tr>\n",
              "    <tr>\n",
              "      <th>2</th>\n",
              "      <td>89</td>\n",
              "      <td>90.710923</td>\n",
              "    </tr>\n",
              "    <tr>\n",
              "      <th>3</th>\n",
              "      <td>92</td>\n",
              "      <td>90.150090</td>\n",
              "    </tr>\n",
              "    <tr>\n",
              "      <th>4</th>\n",
              "      <td>91</td>\n",
              "      <td>90.786662</td>\n",
              "    </tr>\n",
              "  </tbody>\n",
              "</table>\n",
              "</div>"
            ],
            "text/plain": [
              "   Data Aktual  Data Prediksi\n",
              "0           90      90.119489\n",
              "1           90      90.508863\n",
              "2           89      90.710923\n",
              "3           92      90.150090\n",
              "4           91      90.786662"
            ]
          },
          "metadata": {
            "tags": []
          },
          "execution_count": 1
        }
      ]
    },
    {
      "cell_type": "markdown",
      "metadata": {
        "id": "hy-LkV48EMDz"
      },
      "source": [
        "Penghitungan Error"
      ]
    },
    {
      "cell_type": "code",
      "metadata": {
        "id": "jeRIDXnt31k0",
        "colab": {
          "base_uri": "https://localhost:8080/"
        },
        "outputId": "65202d14-e946-47e0-cb49-3064793b328d"
      },
      "source": [
        "y=hasil['Data Prediksi']\n",
        "yhat= hasil['Data Aktual']\n",
        "x = list(range(len(y)))\n",
        "d = y - yhat\n",
        "mse_f = np.mean(d**2)\n",
        "mae_f = np.mean(abs(d))\n",
        "rmse_f = np.sqrt(mse_f)\n",
        "\n",
        "print(\"Nilai Error:\")\n",
        "print(\"MAE:\",mae_f)\n"
      ],
      "execution_count": null,
      "outputs": [
        {
          "output_type": "stream",
          "text": [
            "Nilai Error:\n",
            "MAE: 0.8805046000000004\n"
          ],
          "name": "stdout"
        }
      ]
    },
    {
      "cell_type": "code",
      "metadata": {
        "colab": {
          "base_uri": "https://localhost:8080/"
        },
        "id": "l5n2PpqV-Mt8",
        "outputId": "3b87eb12-eb35-4673-8dc8-abba572f4114"
      },
      "source": [
        "print(\"MSE:\", mse_f)"
      ],
      "execution_count": null,
      "outputs": [
        {
          "output_type": "stream",
          "text": [
            "MSE: 1.3336313592325932\n"
          ],
          "name": "stdout"
        }
      ]
    },
    {
      "cell_type": "code",
      "metadata": {
        "colab": {
          "base_uri": "https://localhost:8080/"
        },
        "id": "cGkJbGkO-OAh",
        "outputId": "5443a41d-c196-4517-ccdb-92043a374e94"
      },
      "source": [
        "print(\"RMSE:\", rmse_f)"
      ],
      "execution_count": null,
      "outputs": [
        {
          "output_type": "stream",
          "text": [
            "RMSE: 1.15482958016869\n"
          ],
          "name": "stdout"
        }
      ]
    },
    {
      "cell_type": "markdown",
      "metadata": {
        "id": "tZOtkIChZ49n"
      },
      "source": [
        "# New Section"
      ]
    }
  ]
}